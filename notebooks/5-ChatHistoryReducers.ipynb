{
 "cells": [
  {
   "cell_type": "markdown",
   "metadata": {},
   "source": [
    "# Chat History Reducers in Semantic Kernel\n",
    "\n",
    "## Overview\n",
    "\n",
    "This notebook explores the concept of Chat History Reducers - a crucial pattern for managing token usage and context window limitations when working with Large Language Models (LLMs) in conversational scenarios.\n",
    "\n",
    "### The Problem\n",
    "\n",
    "Large Language Models operate with a defined limit on the number of tokens they can process at once, referred to as the **context window**. Exceeding this limit can have significant cost and performance implications. Therefore, it is essential to manage the size of the input sent to the LLM, particularly when using chat completion models.\n",
    "\n",
    "### The Solution\n",
    "\n",
    "Chat History Reducers provide strategies to truncate chat history when it becomes too large, while preserving the most important context for meaningful conversations."
   ]
  },
  {
   "cell_type": "code",
   "execution_count": 1,
   "metadata": {
    "language_info": {
     "name": "polyglot-notebook"
    },
    "polyglot_notebook": {
     "kernelName": "csharp"
    }
   },
   "outputs": [
    {
     "data": {
      "text/html": [
       "<div><div></div><div></div><div><strong>Installed Packages</strong><ul><li><span>Microsoft.SemanticKernel, 1.61.0</span></li></ul></div></div>"
      ]
     },
     "metadata": {},
     "output_type": "display_data"
    }
   ],
   "source": [
    "#r \"nuget: Microsoft.SemanticKernel, 1.61.0\"\n",
    "\n",
    "#!import config/Settings.cs\n",
    "\n",
    "using Microsoft.SemanticKernel;\n",
    "using Kernel = Microsoft.SemanticKernel.Kernel;\n",
    "\n",
    "Kernel CreateKernel()\n",
    "{\n",
    "    var builder = Kernel.CreateBuilder();\n",
    "\n",
    "    var (useAzureOpenAI, model, azureEndpoint, apiKey, orgId, embeddingEndpoint, embeddingApiKey) = Settings.LoadFromFile();\n",
    "\n",
    "    builder.AddAzureOpenAIChatCompletion(model, azureEndpoint, apiKey);\n",
    "    var kernel = builder.Build();\n",
    "\n",
    "    return kernel;\n",
    "}\n",
    "\n",
    "var kernel = CreateKernel();"
   ]
  },
  {
   "cell_type": "code",
   "execution_count": 2,
   "metadata": {
    "language_info": {
     "name": "polyglot-notebook"
    },
    "polyglot_notebook": {
     "kernelName": "csharp"
    }
   },
   "outputs": [
    {
     "data": {
      "text/html": [
       "<div><div></div><div></div><div><strong>Installed Packages</strong><ul><li><span>Microsoft.SemanticKernel.Agents.Core, 1.61.0</span></li></ul></div></div>"
      ]
     },
     "metadata": {},
     "output_type": "display_data"
    }
   ],
   "source": [
    "#r \"nuget: Microsoft.SemanticKernel.Agents.Core, 1.61.0\""
   ]
  },
  {
   "cell_type": "markdown",
   "metadata": {},
   "source": [
    "## The IChatHistoryReducer Interface\n",
    "\n",
    "The foundation of chat history reduction is the `IChatHistoryReducer` interface, which supports various strategies for reducing chat history with asynchronous processing."
   ]
  },
  {
   "cell_type": "markdown",
   "metadata": {},
   "source": [
    "```csharp\n",
    "/// <summary>\n",
    "/// Interface for reducing the chat history before sending it to the chat completion provider.\n",
    "/// </summary>\n",
    "public interface IChatHistoryReducer\n",
    "{\n",
    "    /// <summary>\n",
    "    /// Reduce the <see cref=\"ChatHistory\"/> before sending it to the <see cref=\"IChatCompletionService\"/>.\n",
    "    /// </summary>\n",
    "    /// <param name=\"chatHistory\">Instance of <see cref=\"ChatHistory\"/> to be reduced.</param>\n",
    "    /// <param name=\"cancellationToken\">Cancellation token.</param>\n",
    "    Task<IEnumerable<ChatMessageContent>?> ReduceAsync(ChatHistory chatHistory, CancellationToken cancellationToken);\n",
    "\n",
    "}\n",
    "```"
   ]
  },
  {
   "cell_type": "markdown",
   "metadata": {},
   "source": [
    "## Strategy 1: Truncating Based on Message Count\n",
    "\n",
    "The simplest approach to reduce chat history is to send only the last N messages to the LLM. \n",
    "\n",
    "This is acheived with ```ChatHistoryTruncationReducer``` from the ```Microsoft.SemanticKernel.ChatCompletion``` namespace"
   ]
  },
  {
   "cell_type": "code",
   "execution_count": 3,
   "metadata": {
    "language_info": {
     "name": "polyglot-notebook"
    },
    "polyglot_notebook": {
     "kernelName": "csharp"
    }
   },
   "outputs": [
    {
     "name": "stdout",
     "output_type": "stream",
     "text": [
      "-------- History --------\n",
      "Even now, in this very room.\n",
      "You can see it when you look out your window...\n",
      "It is the world that has been pulled over your eyes to blind you from the truth\n",
      "-------- Agent Response --------\n",
      "גַּם עַתָּה בַּחֶדֶר הַזֶּה.  \n",
      "תִּרְאֶה בַּאֲשֶׁר תַּבִּיט מִן הַחַלּוֹן.  \n",
      "הַעוֹלָם שֶׁשֻׁלַּף עַל עֵינֶיךָ לְסַלֵּף אֶת הָאֱמֶת.  \n"
     ]
    }
   ],
   "source": [
    "#pragma warning disable SKEXP0110\n",
    "#pragma warning disable SKEXP0001\n",
    "using Microsoft.SemanticKernel.ChatCompletion;\n",
    "using Microsoft.SemanticKernel.Agents;\n",
    "\n",
    "var biblicalHebrewAgent = new ChatCompletionAgent\n",
    "{\n",
    "    Name = \"biblicalHabrewAgent\",\n",
    "    Instructions = \n",
    "        \"\"\"\n",
    "        You are an expert in anceint hebrew, when you receive messages you summarize them and translate them to biblical hebrew.\n",
    "        Answer ONLY in biblical hebrew!\n",
    "        \"\"\",\n",
    "    Description = \"An expert in anceint hebrew that translates texts and messages into hebrew\",\n",
    "    Kernel = kernel,\n",
    "\n",
    "    // This will only be invoked automatically when the agent is part of a chat\n",
    "    HistoryReducer = new ChatHistoryTruncationReducer(3),\n",
    "};\n",
    "\n",
    "// Creating a long history of messages\n",
    "var chatHistory = new ChatHistory();\n",
    "chatHistory.AddUserMessage(\"The Matrix is everywhere.\");\n",
    "chatHistory.AddUserMessage(\"It is all around us.\");\n",
    "chatHistory.AddUserMessage(\"Even now, in this very room.\");\n",
    "chatHistory.AddUserMessage(\"You can see it when you look out your window...\");\n",
    "chatHistory.AddUserMessage(\"It is the world that has been pulled over your eyes to blind you from the truth\");\n",
    "\n",
    "var chatHistoryAgentThread  = new ChatHistoryAgentThread(chatHistory);\n",
    "await biblicalHebrewAgent.ReduceAsync(chatHistoryAgentThread.ChatHistory); //since we are not in a chat, we run it explicitly\n",
    "\n",
    "IAsyncEnumerable<AgentResponseItem<ChatMessageContent>> response = biblicalHebrewAgent.InvokeAsync(\"remind me everything i just said\", chatHistoryAgentThread);\n",
    "\n",
    "Console.WriteLine(\"-------- History --------\");\n",
    "foreach(var msg in chatHistoryAgentThread.ChatHistory)\n",
    "{\n",
    "    Console.WriteLine(msg);\n",
    "}\n",
    "\n",
    "\n",
    "Console.WriteLine(\"-------- Agent Response --------\");\n",
    "await foreach (var item in response)\n",
    "{\n",
    "    Console.WriteLine(item.Message);\n",
    "}"
   ]
  },
  {
   "cell_type": "markdown",
   "metadata": {},
   "source": [
    "## Strategy 2: Summarizing Older Messages\n",
    "\n",
    "The most sophisticated strategy summarizes existing chat history and sends the system message, chat history summary, and most recent messages to the LLM. This approach helps maintain context while reducing token usage.\n",
    "\n",
    "This is done by using the ```ChatHistorySummarizationReducer```"
   ]
  },
  {
   "cell_type": "code",
   "execution_count": 4,
   "metadata": {
    "dotnet_interactive": {
     "language": "csharp"
    }
   },
   "outputs": [
    {
     "name": "stdout",
     "output_type": "stream",
     "text": [
      "-------- History --------\n",
      "The dialog references a well-known scene from \"The Matrix,\" highlighting the idea that the Matrix is an all-encompassing illusion. It is described as omnipresent, surrounding individuals even in their immediate environment. The Matrix is depicted as a deceptive construct, obscuring the truth from those within it. The user builds the quote sequentially, focusing on its profound implications.\n",
      "It is the world that has been pulled over your eyes to blind you from the truth\n",
      "-------- Agent Response --------\n",
      "הוּא הָעוֹלָם הַנִּמְשַׁךְ עַל עֵינֶיךָ לְהַעֲוֹר מִמְּךָ אֶת הָאֱמֶת.\n"
     ]
    }
   ],
   "source": [
    "#pragma warning disable SKEXP0110\n",
    "#pragma warning disable SKEXP0001\n",
    "using Microsoft.SemanticKernel.ChatCompletion;\n",
    "using Microsoft.SemanticKernel.Agents;\n",
    "\n",
    "var chatCompletionService = kernel.GetRequiredService<IChatCompletionService>();\n",
    "\n",
    "var biblicalHebrewAgent = new ChatCompletionAgent\n",
    "{\n",
    "    Name = \"biblicalHabrewAgent\",\n",
    "    Instructions = \n",
    "        \"\"\"\n",
    "        You are an expert in anceint hebrew, when you receive messages you summarize them and translate them to biblical hebrew.\n",
    "        Answer ONLY in biblical hebrew!\n",
    "        \"\"\",\n",
    "    Description = \"An expert in anceint hebrew that translates texts and messages into hebrew\",\n",
    "    Kernel = kernel,\n",
    "\n",
    "    // This will only be invoked automatically when the agent is part of a chat\n",
    "    HistoryReducer = new ChatHistorySummarizationReducer(chatCompletionService, \n",
    "                                                         targetCount: 1,     // Desired number of messages \n",
    "                                                         thresholdCount: 2 ) // How many message will trigger the summarization\n",
    "                                                         { \n",
    "                                                            UseSingleSummary = true // If wish to only have one summarized message\n",
    "                                                         }\n",
    "};\n",
    "\n",
    "// Creating a long history of messages\n",
    "var chatHistory = new ChatHistory();\n",
    "chatHistory.AddUserMessage(\"The Matrix is everywhere.\");\n",
    "chatHistory.AddUserMessage(\"It is all around us.\");\n",
    "chatHistory.AddUserMessage(\"Even now, in this very room.\");\n",
    "chatHistory.AddUserMessage(\"You can see it when you look out your window...\");\n",
    "chatHistory.AddUserMessage(\"It is the world that has been pulled over your eyes to blind you from the truth\");\n",
    "\n",
    "var chatHistoryAgentThread  = new ChatHistoryAgentThread(chatHistory);\n",
    "await biblicalHebrewAgent.ReduceAsync(chatHistoryAgentThread.ChatHistory); //since we are not in a chat, we run it explicitly\n",
    "\n",
    "IAsyncEnumerable<AgentResponseItem<ChatMessageContent>> response = biblicalHebrewAgent.InvokeAsync(\"remind me everything i just said\", chatHistoryAgentThread);\n",
    "\n",
    "Console.WriteLine(\"-------- History --------\");\n",
    "foreach(var msg in chatHistoryAgentThread.ChatHistory)\n",
    "{\n",
    "    Console.WriteLine(msg);\n",
    "}\n",
    "\n",
    "\n",
    "Console.WriteLine(\"-------- Agent Response --------\");\n",
    "await foreach (var item in response)\n",
    "{\n",
    "    Console.WriteLine(item.Message);\n",
    "}"
   ]
  },
  {
   "cell_type": "markdown",
   "metadata": {},
   "source": [
    "## Reducing without an agent\n",
    "\n",
    "You can use the the reducer even without an agent"
   ]
  },
  {
   "cell_type": "code",
   "execution_count": 5,
   "metadata": {
    "language_info": {
     "name": "polyglot-notebook"
    },
    "polyglot_notebook": {
     "kernelName": "csharp"
    }
   },
   "outputs": [
    {
     "name": "stdout",
     "output_type": "stream",
     "text": [
      "Summary of chat so far: The user begins quoting a famous speech from \"The Matrix\" by Morpheus, describing the Matrix as an omnipresent and deceptive construct. They convey that it exists everywhere, even within the confines of a room, visible through observation like looking out a window. The Matrix is characterized as a false reality designed to obscure the truth from humanity. There is an ongoing progression of the original dialogue's themes about perception and deception in the world. Further interaction appears to build on this established context.\r\n"
     ]
    }
   ],
   "source": [
    "// Creating a long history of messages\n",
    "var chatHistory = new ChatHistory();\n",
    "chatHistory.AddUserMessage(\"The Matrix is everywhere.\");\n",
    "chatHistory.AddUserMessage(\"It is all around us.\");\n",
    "chatHistory.AddUserMessage(\"Even now, in this very room.\");\n",
    "chatHistory.AddUserMessage(\"You can see it when you look out your window...\");\n",
    "chatHistory.AddUserMessage(\"It is the world that has been pulled over your eyes to blind you from the truth\");\n",
    "\n",
    "var chatCompletionService = kernel.GetRequiredService<IChatCompletionService>();\n",
    "\n",
    "var historyReducer = new ChatHistorySummarizationReducer(chatCompletionService, targetCount: 1) { UseSingleSummary = true };\n",
    "\n",
    "var reducedHistory = await historyReducer.ReduceAsync(chatHistory);\n",
    "Console.WriteLine($\"Summary of chat so far: {reducedHistory?.FirstOrDefault()?.Content}\");\n"
   ]
  }
 ],
 "metadata": {
  "kernelspec": {
   "display_name": ".NET (C#)",
   "language": "C#",
   "name": ".net-csharp"
  },
  "language_info": {
   "name": "polyglot-notebook"
  },
  "polyglot_notebook": {
   "kernelInfo": {
    "defaultKernelName": "csharp",
    "items": [
     {
      "aliases": [],
      "languageName": "csharp",
      "name": "csharp"
     }
    ]
   }
  }
 },
 "nbformat": 4,
 "nbformat_minor": 2
}
