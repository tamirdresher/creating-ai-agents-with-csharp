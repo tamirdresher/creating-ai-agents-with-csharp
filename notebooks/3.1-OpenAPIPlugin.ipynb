{
 "cells": [
  {
   "cell_type": "markdown",
   "metadata": {},
   "source": [
    "# OpenAPI Plugin in Semantic Kernel\n",
    "\n",
    "## Overview\n",
    "\n",
    "This notebook demonstrates how to integrate external APIs into Semantic Kernel using OpenAPI plugins.\n",
    "\n",
    "### The Problem\n",
    "\n",
    "AI agents often need to interact with external services and APIs to provide meaningful, actionable responses. However, manually creating function definitions for every API endpoint is time-consuming and error-prone. Additionally, many enterprise APIs require complex authentication mechanisms that need to be handled securely.\n",
    "\n",
    "### The Solution\n",
    "\n",
    "OpenAPI plugins in Semantic Kernel automatically generate function definitions from OpenAPI specifications, enabling seamless integration with external services. This approach provides:\n",
    "\n",
    "* Automatic Function Generation: Convert OpenAPI specs into callable kernel functions\n",
    "* Authentication Handling: Built-in support for various authentication methods including Bearer tokens\n",
    "* Type Safety: Strongly-typed function parameters based on API specifications\n",
    "* Enterprise Integration: Easy connection to services like Azure DevOps, GitHub, and other REST APIs"
   ]
  },
  {
   "cell_type": "markdown",
   "metadata": {},
   "source": [
    "## Package References and Configuration\n",
    "\n",
    "First, let's install the required NuGet packages and create our kernel"
   ]
  },
  {
   "cell_type": "code",
   "execution_count": null,
   "metadata": {
    "dotnet_interactive": {
     "language": "csharp"
    },
    "polyglot_notebook": {
     "kernelName": "csharp"
    }
   },
   "outputs": [
    {
     "data": {
      "text/html": [
       "<div><div></div><div></div><div><strong>Installed Packages</strong><ul><li><span>Microsoft.SemanticKernel, 1.60.0</span></li></ul></div></div>"
      ]
     },
     "metadata": {},
     "output_type": "display_data"
    }
   ],
   "source": [
    "#r \"nuget: Microsoft.SemanticKernel, 1.61.0\"\n",
    "\n",
    "#!import config/Settings.cs\n",
    "\n",
    "using Microsoft.SemanticKernel;\n",
    "using Kernel = Microsoft.SemanticKernel.Kernel;\n",
    "\n",
    "Kernel CreateKernel()\n",
    "{\n",
    "    var builder = Kernel.CreateBuilder();\n",
    "\n",
    "    var (useAzureOpenAI, model, azureEndpoint, apiKey, orgId, embeddingEndpoint, embeddingApiKey) = Settings.LoadFromFile();\n",
    "\n",
    "    builder.AddAzureOpenAIChatCompletion(model, azureEndpoint, apiKey);\n",
    "    var kernel = builder.Build();\n",
    "\n",
    "    return kernel;\n",
    "}\n",
    "\n",
    "var kernel = CreateKernel();"
   ]
  },
  {
   "cell_type": "code",
   "execution_count": 8,
   "metadata": {
    "dotnet_interactive": {
     "language": "csharp"
    },
    "polyglot_notebook": {
     "kernelName": "csharp"
    }
   },
   "outputs": [
    {
     "data": {
      "text/html": [
       "<div><div></div><div></div><div><strong>Installed Packages</strong><ul><li><span>azure.core, 1.44.1</span></li><li><span>Azure.Identity, 1.13.1</span></li></ul></div></div>"
      ]
     },
     "metadata": {},
     "output_type": "display_data"
    }
   ],
   "source": [
    "#r \"nuget: Azure.Identity, 1.13.1\"\n",
    "#r \"nuget: Azure.Core, 1.44.1\""
   ]
  },
  {
   "cell_type": "code",
   "execution_count": 10,
   "metadata": {
    "dotnet_interactive": {
     "language": "csharp"
    },
    "polyglot_notebook": {
     "kernelName": "csharp"
    }
   },
   "outputs": [],
   "source": [
    "using Azure.Core;\n",
    "using Azure.Identity;\n",
    "\n",
    "TokenCredential tokenCredential =\n",
    "    new ChainedTokenCredential(\n",
    "        new AzureCliCredential(),\n",
    "        new VisualStudioCredential(),\n",
    "        new DefaultAzureCredential(\n",
    "            new DefaultAzureCredentialOptions()));"
   ]
  },
  {
   "cell_type": "code",
   "execution_count": 4,
   "metadata": {
    "dotnet_interactive": {
     "language": "csharp"
    },
    "polyglot_notebook": {
     "kernelName": "csharp"
    }
   },
   "outputs": [],
   "source": [
    "var tokenRequestContext = new TokenRequestContext([\"499b84ac-1321-427f-aa17-267ca6975798/.default\"], parentRequestId: null);\n",
    "var accesstoken = await tokenCredential.GetTokenAsync(tokenRequestContext, System.Threading.CancellationToken.None);"
   ]
  },
  {
   "cell_type": "code",
   "execution_count": 5,
   "metadata": {
    "dotnet_interactive": {
     "language": "csharp"
    },
    "polyglot_notebook": {
     "kernelName": "csharp"
    }
   },
   "outputs": [
    {
     "data": {
      "text/html": [
       "<div><div></div><div></div><div><strong>Installed Packages</strong><ul><li><span>Microsoft.SemanticKernel.Plugins.OpenApi.Extensions, 1.60.0-alpha</span></li></ul></div></div>"
      ]
     },
     "metadata": {},
     "output_type": "display_data"
    }
   ],
   "source": [
    "#r \"nuget: Microsoft.SemanticKernel.Plugins.OpenApi.Extensions, 1.60.0-alpha\""
   ]
  },
  {
   "cell_type": "code",
   "execution_count": 7,
   "metadata": {
    "dotnet_interactive": {
     "language": "csharp"
    },
    "polyglot_notebook": {
     "kernelName": "csharp"
    }
   },
   "outputs": [],
   "source": [
    "using Microsoft.SemanticKernel.Plugins.OpenApi;\n",
    "using System.Net.Http.Headers;\n",
    "#pragma warning disable SKEXP0040\n",
    "\n",
    "KernelPlugin plugin = await OpenApiKernelPluginFactory.CreateFromOpenApiAsync(\n",
    "    pluginName: \"ADOPipelines\",     \n",
    "    filePath: \"ado_pipelines_openapi.json\",\n",
    "    new OpenApiFunctionExecutionParameters()\n",
    "    {\n",
    "        ServerUrlOverride = new Uri(\"https://dev.azure.com/\"),\n",
    "        AuthCallback = (request, token) =>\n",
    "        {\n",
    "            request.Headers.Authorization = new AuthenticationHeaderValue(\"Bearer\", accesstoken.Token);\n",
    "            Console.WriteLine($\"Requesting {request.RequestUri} \");\n",
    "            return Task.CompletedTask;\n",
    "        } \n",
    "    }\n",
    ");\n",
    "kernel.Plugins.Add(plugin);"
   ]
  },
  {
   "cell_type": "code",
   "execution_count": 9,
   "metadata": {
    "dotnet_interactive": {
     "language": "csharp"
    },
    "polyglot_notebook": {
     "kernelName": "csharp"
    }
   },
   "outputs": [
    {
     "name": "stdout",
     "output_type": "stream",
     "text": [
      "Requesting https://dev.azure.com/MY_ORGANIZATION/MY_PROJECT/_apis/pipelines?$top=3&api-version=7.0 \n",
      "It seems that the organization, project, or API version details provided might be incorrect, or the organization/project doesn't exist in Azure DevOps. Please verify the details and ensure that they are valid.\n"
     ]
    }
   ],
   "source": [
    "PromptExecutionSettings settings = new() { FunctionChoiceBehavior = FunctionChoiceBehavior.Auto() };\n",
    "var result = await kernel.InvokePromptAsync(\"give me the 3 first names of my ADO pipelines in my organization MY_ORGANIZATION in project MY_PROJECT api version 7.0\", new(settings));\n",
    "Console.WriteLine(result);"
   ]
  }
 ],
 "metadata": {
  "kernelspec": {
   "display_name": ".NET (C#)",
   "language": "C#",
   "name": ".net-csharp"
  },
  "language_info": {
   "name": "polyglot-notebook"
  },
  "polyglot_notebook": {
   "kernelInfo": {
    "defaultKernelName": "csharp",
    "items": [
     {
      "aliases": [],
      "name": "csharp"
     }
    ]
   }
  }
 },
 "nbformat": 4,
 "nbformat_minor": 2
}
