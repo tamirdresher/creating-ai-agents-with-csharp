{
 "cells": [
  {
   "cell_type": "code",
   "execution_count": 1,
   "metadata": {
    "dotnet_interactive": {
     "language": "csharp"
    },
    "polyglot_notebook": {
     "kernelName": "csharp"
    }
   },
   "outputs": [
    {
     "data": {
      "text/html": [
       "<div><div></div><div></div><div><strong>Installed Packages</strong><ul><li><span>Microsoft.SemanticKernel, 1.61.0</span></li><li><span>Microsoft.SemanticKernel.Agents.Core, 1.61.0</span></li></ul></div></div>"
      ]
     },
     "metadata": {},
     "output_type": "display_data"
    }
   ],
   "source": [
    "#r \"nuget: Microsoft.SemanticKernel, 1.61.0\"\n",
    "#r \"nuget: Microsoft.SemanticKernel.Agents.Core, 1.61.0\"\n",
    "\n",
    "#!import config/Settings.cs\n",
    "\n",
    "using Microsoft.SemanticKernel;\n",
    "using Kernel = Microsoft.SemanticKernel.Kernel;\n",
    "\n",
    "Kernel CreateKernel()\n",
    "{\n",
    "    var builder = Kernel.CreateBuilder();\n",
    "\n",
    "    var (useAzureOpenAI, model, azureEndpoint, apiKey, orgId, embeddingEndpoint, embeddingApiKey) = Settings.LoadFromFile();\n",
    "\n",
    "    builder.AddAzureOpenAIChatCompletion(model, azureEndpoint, apiKey);\n",
    "    var kernel = builder.Build();\n",
    "\n",
    "    return kernel;\n",
    "}\n",
    "\n",
    "var kernel = CreateKernel();"
   ]
  },
  {
   "cell_type": "markdown",
   "metadata": {},
   "source": [
    "# Adding functions from a type"
   ]
  },
  {
   "cell_type": "code",
   "execution_count": 2,
   "metadata": {
    "language_info": {
     "name": "polyglot-notebook"
    },
    "polyglot_notebook": {
     "kernelName": "csharp"
    }
   },
   "outputs": [],
   "source": [
    "using System.ComponentModel;\n",
    "class KuberenetesSkills\n",
    "{\n",
    "    [Description(\"Runs kubectl commands, just provide the arguments to the kubectl and it will run it and return the result as string\")]\n",
    "    [KernelFunction()]\n",
    "    public async Task<string> RunKubectl(string kubectlArguements)\n",
    "    {\n",
    "        Console.WriteLine($\"{kubectlArguements}\");\n",
    "        return \"Not implemented\";\n",
    "    }\n",
    "}"
   ]
  },
  {
   "cell_type": "code",
   "execution_count": 3,
   "metadata": {
    "language_info": {
     "name": "polyglot-notebook"
    },
    "polyglot_notebook": {
     "kernelName": "csharp"
    }
   },
   "outputs": [],
   "source": [
    "kernel.Plugins.AddFromType<KuberenetesSkills>();"
   ]
  },
  {
   "cell_type": "code",
   "execution_count": 4,
   "metadata": {
    "language_info": {
     "name": "polyglot-notebook"
    },
    "polyglot_notebook": {
     "kernelName": "csharp"
    }
   },
   "outputs": [],
   "source": [
    "PromptExecutionSettings settings = new() { FunctionChoiceBehavior = FunctionChoiceBehavior.Auto() };"
   ]
  },
  {
   "cell_type": "code",
   "execution_count": 5,
   "metadata": {
    "language_info": {
     "name": "polyglot-notebook"
    },
    "polyglot_notebook": {
     "kernelName": "csharp"
    }
   },
   "outputs": [],
   "source": [
    "using Microsoft.SemanticKernel.Agents;\n",
    "\n",
    "var k8sAgent = new ChatCompletionAgent\n",
    "{\n",
    "    Name = \"KubernetesAgent\",\n",
    "    Instructions = \n",
    "        \"\"\"\n",
    "        You are an expert in Kubernetes.\n",
    "        Answer questions about Kubernetes ONLY!.\n",
    "        \"\"\",\n",
    "    Description = \"An expert in Kubernetes\",\n",
    "    Kernel = kernel,\n",
    "\n",
    "\n",
    "    // Instruct SK to allow the function calling\n",
    "    Arguments = new KernelArguments(new PromptExecutionSettings{ FunctionChoiceBehavior = FunctionChoiceBehavior.Auto(),})\n",
    "};"
   ]
  },
  {
   "cell_type": "code",
   "execution_count": 6,
   "metadata": {
    "language_info": {
     "name": "polyglot-notebook"
    },
    "polyglot_notebook": {
     "kernelName": "csharp"
    }
   },
   "outputs": [
    {
     "name": "stdout",
     "output_type": "stream",
     "text": [
      "run new-pod --image=myimage_name:latest\n",
      "It seems that the system doesn't support executing the `kubectl` command directly at this moment. You can manually execute the following command in your terminal to create a new pod:\n",
      "\n",
      "```bash\n",
      "kubectl run new-pod --image=myimage_name:latest\n",
      "```\n",
      "\n",
      "This will create a new pod named `new-pod` using the `myimage_name:latest` image. Let me know if you'd like assistance with anything else!\n"
     ]
    }
   ],
   "source": [
    "\n",
    "var response = k8sAgent.InvokeAsync(\"run a new pod in my k8s cluster from image 'myimage_name:latest'\");\n",
    "\n",
    "await foreach (var item in response)\n",
    "{\n",
    "    Console.WriteLine(item.Message);\n",
    "}"
   ]
  },
  {
   "cell_type": "markdown",
   "metadata": {},
   "source": [
    "# Adding functions from an object"
   ]
  },
  {
   "cell_type": "code",
   "execution_count": 7,
   "metadata": {
    "language_info": {
     "name": "polyglot-notebook"
    },
    "polyglot_notebook": {
     "kernelName": "csharp"
    }
   },
   "outputs": [],
   "source": [
    "public sealed class TimePlugin\n",
    "{\n",
    "    private readonly TimeProvider _timeProvider;\n",
    "\n",
    "    public TimePlugin(TimeProvider timeProvider)\n",
    "    {\n",
    "        this._timeProvider = timeProvider;\n",
    "    }\n",
    "\n",
    "    [KernelFunction]\n",
    "    [Description(\"Get the date of today Iin UTC as a string\")]\n",
    "    public string GetTodayAsString()\n",
    "    {\n",
    "        DateTimeOffset dateTime = this._timeProvider.GetUtcNow();        \n",
    "\n",
    "        return dateTime.ToString();\n",
    "    }\n",
    "}"
   ]
  },
  {
   "cell_type": "code",
   "execution_count": 8,
   "metadata": {
    "language_info": {
     "name": "polyglot-notebook"
    },
    "polyglot_notebook": {
     "kernelName": "csharp"
    }
   },
   "outputs": [],
   "source": [
    "kernel.ImportPluginFromObject(new TimePlugin(TimeProvider.System));"
   ]
  },
  {
   "cell_type": "code",
   "execution_count": 9,
   "metadata": {
    "language_info": {
     "name": "polyglot-notebook"
    },
    "polyglot_notebook": {
     "kernelName": "csharp"
    }
   },
   "outputs": [],
   "source": [
    "using Microsoft.SemanticKernel.Agents;\n",
    "\n",
    "var calendarAgent = new ChatCompletionAgent\n",
    "{\n",
    "    Name = \"CalendarAgent\",\n",
    "    Instructions = \n",
    "        \"\"\"\n",
    "        You are an agent that helps with scheduling meeting and manging the user calendar.\n",
    "        \"\"\",\n",
    "    Description = \"An user calendar assistent\",\n",
    "    Kernel = kernel,\n",
    "\n",
    "\n",
    "    // Instruct SK to allow the function calling\n",
    "    Arguments = new KernelArguments(new PromptExecutionSettings{ FunctionChoiceBehavior = FunctionChoiceBehavior.Auto(),})\n",
    "};"
   ]
  },
  {
   "cell_type": "code",
   "execution_count": 10,
   "metadata": {
    "language_info": {
     "name": "polyglot-notebook"
    },
    "polyglot_notebook": {
     "kernelName": "csharp"
    }
   },
   "outputs": [
    {
     "name": "stdout",
     "output_type": "stream",
     "text": [
      "Today's date is July 26, 2025, in UTC.\r\n"
     ]
    }
   ],
   "source": [
    "var response = k8sAgent.InvokeAsync(\"what's the date today?\");\n",
    "\n",
    "await foreach (var item in response)\n",
    "{\n",
    "    Console.WriteLine(item.Message);\n",
    "}"
   ]
  },
  {
   "cell_type": "markdown",
   "metadata": {},
   "source": [
    "# MCP Client"
   ]
  },
  {
   "cell_type": "code",
   "execution_count": 11,
   "metadata": {
    "language_info": {
     "name": "polyglot-notebook"
    },
    "polyglot_notebook": {
     "kernelName": "csharp"
    }
   },
   "outputs": [
    {
     "data": {
      "text/html": [
       "<div><div></div><div></div><div><strong>Installed Packages</strong><ul><li><span>ModelContextProtocol, 0.3.0-preview.3</span></li><li><span>System.Net.ServerSentEvents, 10.0.0-preview.4.25258.110</span></li></ul></div></div>"
      ]
     },
     "metadata": {},
     "output_type": "display_data"
    }
   ],
   "source": [
    "#r \"nuget: System.Net.ServerSentEvents, 10.0.0-preview.4.25258.110\"\n",
    "\n",
    "#r \"nuget: ModelContextProtocol, 0.3.0-preview.3\""
   ]
  },
  {
   "cell_type": "code",
   "execution_count": 12,
   "metadata": {
    "language_info": {
     "name": "polyglot-notebook"
    },
    "polyglot_notebook": {
     "kernelName": "csharp"
    }
   },
   "outputs": [],
   "source": [
    "using ModelContextProtocol.Client;"
   ]
  },
  {
   "cell_type": "code",
   "execution_count": 13,
   "metadata": {
    "language_info": {
     "name": "polyglot-notebook"
    },
    "polyglot_notebook": {
     "kernelName": "csharp"
    }
   },
   "outputs": [],
   "source": [
    "// https://github.com/modelcontextprotocol/servers-archived/tree/main/src/github\n",
    "\n",
    "var mcpClient = await McpClientFactory.CreateAsync(\n",
    "    new StdioClientTransport(new()\n",
    "        {\n",
    "            Name = \"MCPServer\",\n",
    "            Command = \"npx\",\n",
    "            Arguments = [\"-y\", \"@modelcontextprotocol/server-github\"],\n",
    "\n",
    "            // EnvironmentVariables = new Dictionary<string, string>\n",
    "            // {\n",
    "            //     [\"GITHUB_PERSONAL_ACCESS_TOKEN\":] = \"XXXXXXXX\"             \n",
    "            // }\n",
    "        }));\n",
    "\n",
    "// Retrieve the list of tools available on the MCP server\n",
    "var tools = await mcpClient.ListToolsAsync().ConfigureAwait(false);"
   ]
  },
  {
   "cell_type": "code",
   "execution_count": 14,
   "metadata": {
    "language_info": {
     "name": "polyglot-notebook"
    },
    "polyglot_notebook": {
     "kernelName": "csharp"
    }
   },
   "outputs": [],
   "source": [
    "#pragma warning disable SKEXP0001\n",
    "\n",
    "kernel.Plugins.AddFromFunctions(\"github\", tools.Select(aiFunction => aiFunction.AsKernelFunction()));"
   ]
  },
  {
   "cell_type": "code",
   "execution_count": 15,
   "metadata": {
    "language_info": {
     "name": "polyglot-notebook"
    },
    "polyglot_notebook": {
     "kernelName": "csharp"
    }
   },
   "outputs": [],
   "source": [
    "using Microsoft.SemanticKernel.Agents;\n",
    "\n",
    "var githubAgent = new ChatCompletionAgent\n",
    "{\n",
    "    Name = \"GithubAgent\",\n",
    "    Instructions = \n",
    "        \"\"\"\n",
    "        You are an agent that helps questions about github\n",
    "        \"\"\",\n",
    "    Description = \"An github assistent\",\n",
    "    Kernel = kernel,\n",
    "\n",
    "\n",
    "    // Instruct SK to allow the function calling\n",
    "    Arguments = new KernelArguments(new PromptExecutionSettings{ FunctionChoiceBehavior = FunctionChoiceBehavior.Auto(),})\n",
    "};"
   ]
  },
  {
   "cell_type": "code",
   "execution_count": 16,
   "metadata": {
    "language_info": {
     "name": "polyglot-notebook"
    },
    "polyglot_notebook": {
     "kernelName": "csharp"
    }
   },
   "outputs": [
    {
     "name": "stdout",
     "output_type": "stream",
     "text": [
      "Unfortunately, I'm encountering repeated errors when trying to retrieve the latest commits for the Semantic Kernel repository. It appears that there may be a formatting or input issue.\n",
      "\n",
      "Could you clarify further if you need anything specific? Alternatively, you can check directly on [GitHub](https://github.com/microsoft/semantic-kernel/commits/main) for the latest commits.\r\n"
     ]
    }
   ],
   "source": [
    "var response = githubAgent.InvokeAsync(\"list the latest commits of the semantic-kernel repo?\");\n",
    "\n",
    "await foreach (var item in response)\n",
    "{\n",
    "    Console.WriteLine(item.Message);\n",
    "}"
   ]
  },
  {
   "cell_type": "markdown",
   "metadata": {},
   "source": [
    "MCP Remote server"
   ]
  },
  {
   "cell_type": "code",
   "execution_count": 17,
   "metadata": {
    "language_info": {
     "name": "polyglot-notebook"
    },
    "polyglot_notebook": {
     "kernelName": "csharp"
    }
   },
   "outputs": [
    {
     "name": "stdout",
     "output_type": "stream",
     "text": [
      "System.Net.ServerSentEvents, Version=10.0.0.0, Culture=neutral, PublicKeyToken=cc7b13ffcd2ddd51\r\n"
     ]
    }
   ],
   "source": [
    "//Trick to resolve the issue with DLL loading\n",
    "{\n",
    "    var t=typeof(System.Net.ServerSentEvents.SseFormatter);\n",
    "    Console.WriteLine(t.Assembly.FullName);\n",
    "\n",
    "    AppDomain.CurrentDomain.AssemblyResolve += (sender, args) =>\n",
    "    {\n",
    "        \n",
    "        //Console.WriteLine($\"AssemblyResolve {args.Name}\");\n",
    "\n",
    "        // If the missing assembly matches something you're expecting\n",
    "        if (args.Name.StartsWith(\"System.Net.ServerSentEvents\"))\n",
    "        {\n",
    "\n",
    "            return t.Assembly;\n",
    "        }\n",
    "\n",
    "        return null; // Let the runtime continue trying otherwise\n",
    "    };\n",
    "}\n"
   ]
  },
  {
   "cell_type": "code",
   "execution_count": 18,
   "metadata": {
    "language_info": {
     "name": "polyglot-notebook"
    },
    "polyglot_notebook": {
     "kernelName": "csharp"
    }
   },
   "outputs": [],
   "source": [
    "var mcpClient = await McpClientFactory.CreateAsync(\n",
    "    new SseClientTransport(\n",
    "        new SseClientTransportOptions\n",
    "        { \n",
    "            Endpoint = new Uri(\"https://learn.microsoft.com/api/mcp\") \n",
    "        }));\n",
    "\n",
    "// Retrieve the list of tools available on the MCP server\n",
    "var tools = await mcpClient.ListToolsAsync().ConfigureAwait(false);"
   ]
  },
  {
   "cell_type": "code",
   "execution_count": 19,
   "metadata": {
    "language_info": {
     "name": "polyglot-notebook"
    },
    "polyglot_notebook": {
     "kernelName": "csharp"
    }
   },
   "outputs": [],
   "source": [
    "#pragma warning disable SKEXP0001\n",
    "\n",
    "kernel.Plugins.AddFromFunctions(\"MSDocs\", tools.Select(aiFunction => aiFunction.AsKernelFunction()));"
   ]
  },
  {
   "cell_type": "code",
   "execution_count": 20,
   "metadata": {
    "language_info": {
     "name": "polyglot-notebook"
    },
    "polyglot_notebook": {
     "kernelName": "csharp"
    }
   },
   "outputs": [
    {
     "name": "stdout",
     "output_type": "stream",
     "text": [
      "To create a Chat Completion Agent with Semantic Kernel in a .NET development environment, you need the following NuGet packages:\n",
      "\n",
      "1. **[Microsoft.SemanticKernel](https://www.nuget.org/packages/Microsoft.SemanticKernel)** - The core Semantic Kernel library.\n",
      "2. **[Microsoft.SemanticKernel.Agents.Core](https://www.nuget.org/packages/Microsoft.SemanticKernel.Agents.Core)** - Includes the ChatCompletionAgent (`dotnet add package Microsoft.SemanticKernel.Agents.Core --prerelease`).\n",
      "3. **[Microsoft.SemanticKernel.Agents.OpenAI](https://www.nuget.org/packages/Microsoft.SemanticKernel.Agents.OpenAI)** - Provides OpenAI integration for assistant agents.\n",
      "\n",
      "Optionally, you may need other packages based on your environment:\n",
      "- **Azure.Identity**\n",
      "- Configuration packages for managing secrets or environment variables.\n",
      "\n",
      "Make sure to use Visual Studio and enable \"Include Prerelease\" if managing via the IDE. You can also review detailed guidance and code samples in the [Semantic Kernel ChatCompletionAgent documentation](https://learn.microsoft.com/en-us/semantic-kernel/frameworks/agent/agent-types/chat-completion-agent).\r\n"
     ]
    }
   ],
   "source": [
    "using Microsoft.SemanticKernel.Agents;\n",
    "\n",
    "var microsoftDevAgent = new ChatCompletionAgent\n",
    "{\n",
    "    Name = \"MSDevAgent\",\n",
    "    Instructions = \n",
    "        \"\"\"\n",
    "        You are a software developer that profession in Microsoft technologies\n",
    "        \"\"\",\n",
    "    Description = \"A Software Dev\",\n",
    "    Kernel = kernel,\n",
    "\n",
    "\n",
    "    // Instruct SK to allow the function calling\n",
    "    Arguments = new KernelArguments(new PromptExecutionSettings{ FunctionChoiceBehavior = FunctionChoiceBehavior.Auto(),})\n",
    "};\n",
    "\n",
    "var response = githubAgent.InvokeAsync(\"which nuget do you need to add to create chat completion agent with semantic kernel?\");\n",
    "\n",
    "await foreach (var item in response)\n",
    "{\n",
    "    Console.WriteLine(item.Message);\n",
    "}"
   ]
  },
  {
   "cell_type": "markdown",
   "metadata": {},
   "source": [
    "# Adding your dotnet tool as MCP Server\n",
    "\n",
    "MCP Server using stdio: [..\\src\\SKCodeAssistent\\FirstMCPServer](..\\src\\SKCodeAssistent\\FirstMCPServer\\Program.cs)"
   ]
  },
  {
   "cell_type": "code",
   "execution_count": 21,
   "metadata": {
    "language_info": {
     "name": "polyglot-notebook"
    },
    "polyglot_notebook": {
     "kernelName": "csharp"
    }
   },
   "outputs": [
    {
     "name": "stdout",
     "output_type": "stream",
     "text": [
      "c:\\Users\\tamirdresher\\source\\repos\\sk-csharp-workshop\\notebooks\r\n"
     ]
    }
   ],
   "source": [
    "Console.WriteLine(Environment.CurrentDirectory);"
   ]
  },
  {
   "cell_type": "code",
   "execution_count": 22,
   "metadata": {
    "language_info": {
     "name": "polyglot-notebook"
    },
    "polyglot_notebook": {
     "kernelName": "csharp"
    }
   },
   "outputs": [
    {
     "name": "stdout",
     "output_type": "stream",
     "text": [
      "Hello from C#: Tamir Dresher\r\n"
     ]
    }
   ],
   "source": [
    "#pragma warning disable SKEXP0001\n",
    "\n",
    "var kernel = CreateKernel();\n",
    "\n",
    "var mcpClient = await McpClientFactory.CreateAsync(\n",
    "    new StdioClientTransport(new()\n",
    "        {\n",
    "            Name = \"MyFirstLocalMCP\",\n",
    "            Command = \"dotnet\",\n",
    "            Arguments = [\"run\", \"--project\", \"..\\\\src\\\\SKCodeAssistent\\\\FirstMCPServer\\\\FirstMCPServer.csproj\"],\n",
    "        }));\n",
    "\n",
    "// Retrieve the list of tools available on the MCP server\n",
    "var tools = await mcpClient.ListToolsAsync().ConfigureAwait(false);\n",
    "\n",
    "kernel.Plugins.AddFromFunctions(\"myMcp\", tools.Select(aiFunction => aiFunction.AsKernelFunction()));\n",
    "\n",
    "\n",
    "PromptExecutionSettings settings = new() { FunctionChoiceBehavior = FunctionChoiceBehavior.Auto() };\n",
    "var response = await kernel.InvokePromptAsync(\"echo my name: Tamir Dresher\", new KernelArguments(settings));\n",
    "\n",
    "Console.WriteLine(response);"
   ]
  },
  {
   "cell_type": "markdown",
   "metadata": {},
   "source": [
    "# Extra: MCP Server\n",
    "\n",
    "First, install the base templates\n",
    "\n",
    "```shell\n",
    "dotnet new install Microsoft.Extensions.AI.Templates\n",
    "```"
   ]
  },
  {
   "cell_type": "markdown",
   "metadata": {},
   "source": [
    "then, create you MCP Server project"
   ]
  },
  {
   "cell_type": "markdown",
   "metadata": {},
   "source": [
    "```shell\n",
    "dotnet new mcpserver -n SampleMcpServer\n",
    "cd SampleMcpServer\n",
    "dotnet build\n",
    "```"
   ]
  },
  {
   "cell_type": "markdown",
   "metadata": {},
   "source": [
    "This will create a starting project which uses the `ModelContextProtocol` C# SDK"
   ]
  },
  {
   "cell_type": "code",
   "execution_count": 23,
   "metadata": {
    "language_info": {
     "name": "polyglot-notebook"
    },
    "polyglot_notebook": {
     "kernelName": "csharp"
    }
   },
   "outputs": [
    {
     "data": {
      "text/html": [
       "<div><div></div><div></div><div><strong>Installed Packages</strong><ul><li><span>ModelContextProtocol, 0.3.0-preview.3</span></li></ul></div></div>"
      ]
     },
     "metadata": {},
     "output_type": "display_data"
    }
   ],
   "source": [
    "#r \"nuget: ModelContextProtocol, 0.3.0-preview.3\""
   ]
  },
  {
   "cell_type": "markdown",
   "metadata": {},
   "source": [
    "## Add you tools by decorating your class methods with the `[McpServerTool]` attribute"
   ]
  },
  {
   "cell_type": "code",
   "execution_count": 25,
   "metadata": {
    "language_info": {
     "name": "polyglot-notebook"
    },
    "polyglot_notebook": {
     "kernelName": "csharp"
    }
   },
   "outputs": [],
   "source": [
    "using ModelContextProtocol.Server;\n",
    "\n",
    "[McpServerTool]\n",
    "[Description(\"Describes random weather in the provided city.\")]\n",
    "public string GetCityWeather(\n",
    "    [Description(\"Name of the city to return weather for\")] string city)\n",
    "{\n",
    "    var weather = \"balmy,rainy,stormy\";    \n",
    "\n",
    "    var weatherChoices = weather.Split(\",\");\n",
    "    var selectedWeatherIndex =  Random.Shared.Next(0, weatherChoices.Length);\n",
    "\n",
    "    return $\"The weather in {city} is {weatherChoices[selectedWeatherIndex]}.\";\n",
    "}"
   ]
  },
  {
   "cell_type": "markdown",
   "metadata": {},
   "source": [
    "## Publishing to nuget\n",
    "follow the steps here:\n",
    "https://devblogs.microsoft.com/dotnet/mcp-server-dotnet-nuget-quickstart/#📋-configuring-for-nuget-publication"
   ]
  },
  {
   "cell_type": "markdown",
   "metadata": {},
   "source": [
    "Nuget is able to filter for packages with MCP Servers\n",
    "![image.png](./img/nuget-mcp-search.png)"
   ]
  },
  {
   "cell_type": "markdown",
   "metadata": {},
   "source": [
    "## Consuming a nuget based MCP Servers\n",
    "\n",
    "From net10, the SDK supports the `dnx` command (like npx for dotnet)\n",
    "\n",
    "Simply put this in your MCP Client config\n",
    "\n",
    "```json\n",
    "{\n",
    "  \"inputs\": [],\n",
    "  \"servers\": {\n",
    "    \"mcpserver.everything.stdio\": {\n",
    "      \"type\": \"stdio\",\n",
    "      \"command\": \"dnx\",\n",
    "      \"args\": [\"YOUR_NUGET_PACKAGE@0.4.0\", \"--yes\"],\n",
    "      \"env\": {}\n",
    "    }\n",
    "  }\n",
    "}\n",
    "```"
   ]
  },
  {
   "cell_type": "markdown",
   "metadata": {},
   "source": [
    "![image.png](./img/nuget-mcp-use-instructions.png)"
   ]
  }
 ],
 "metadata": {
  "kernelspec": {
   "display_name": ".NET (C#)",
   "language": "C#",
   "name": ".net-csharp"
  },
  "language_info": {
   "name": "polyglot-notebook"
  },
  "polyglot_notebook": {
   "kernelInfo": {
    "defaultKernelName": "csharp",
    "items": [
     {
      "aliases": [],
      "name": "csharp"
     }
    ]
   }
  }
 },
 "nbformat": 4,
 "nbformat_minor": 2
}
